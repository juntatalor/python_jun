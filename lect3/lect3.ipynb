{
 "cells": [
  {
   "cell_type": "code",
   "execution_count": null,
   "metadata": {
    "scrolled": true
   },
   "outputs": [],
   "source": [
    "def fibonacci(max_value):      \n",
    "    a, b = 0, 1\n",
    "    while a < max_value:\n",
    "        print(a)           \n",
    "        a, b = b, a + b    \n",
    "\n",
    "fibonacci(100) "
   ]
  },
  {
   "cell_type": "code",
   "execution_count": null,
   "metadata": {},
   "outputs": [],
   "source": [
    "def enquote1(in_str):\n",
    "    \"\"\"Quotes input string with single-quote\"\"\"\n",
    "    in_str = in_str.replace(\"'\", r\"\\'\")\n",
    "    return \"'%s'\" % in_str\n",
    "\n",
    "\n",
    "def enquote2(in_str):\n",
    "    \"\"\"Quotes input string with double-quote\"\"\"\n",
    "    in_str = in_str.replace('\"', r'\\\"')\n",
    "    return '\"%s\"' % in_str\n",
    "\n",
    "\n",
    "def gen_insert(table, **kwargs):\n",
    "    \"\"\"Generates DB insert statement\"\"\"\n",
    "    cols = []\n",
    "    vals = []\n",
    "    for col, val in kwargs.items():\n",
    "        cols.append(enquote2(col))\n",
    "        vals.append(enquote1(str(val)))\n",
    "    cols = \", \".join(cols)\n",
    "    vals = \", \".join(vals)\n",
    "\n",
    "    return 'INSERT INTO \"%s\"(%s) VALUES(%s);' % (\n",
    "            table, cols, vals)\n",
    "\n",
    "print(gen_insert(\"workers\", name=\"John\", age=\"'21'\", salary=1500.0))\n",
    "params = {\"name\": \"Mary\", \"age\": 19, \"salary\": 1200.0}\n",
    "print(gen_insert(\"workers\", **params))"
   ]
  },
  {
   "cell_type": "code",
   "execution_count": null,
   "metadata": {
    "collapsed": true
   },
   "outputs": [],
   "source": [
    "def read_all_file(path):\n",
    "    with open(path, 'r') as f:\n",
    "        return f.read()"
   ]
  },
  {
   "cell_type": "code",
   "execution_count": null,
   "metadata": {},
   "outputs": [],
   "source": [
    "read_all_file('text.txt')"
   ]
  },
  {
   "cell_type": "code",
   "execution_count": null,
   "metadata": {
    "collapsed": true
   },
   "outputs": [],
   "source": [
    "def read_file_in_rows(path):\n",
    "    with open(path, 'r') as f:\n",
    "        for line in f.readlines():\n",
    "            yield line"
   ]
  },
  {
   "cell_type": "code",
   "execution_count": null,
   "metadata": {},
   "outputs": [],
   "source": [
    "for it in read_file_in_rows('text.txt'):\n",
    "    print(it)"
   ]
  },
  {
   "cell_type": "code",
   "execution_count": null,
   "metadata": {
    "collapsed": true
   },
   "outputs": [],
   "source": [
    "def write_in_file(path, text):\n",
    "    with open(path, 'w') as f:\n",
    "        f.write(text)"
   ]
  },
  {
   "cell_type": "code",
   "execution_count": null,
   "metadata": {
    "collapsed": true
   },
   "outputs": [],
   "source": [
    "write_in_file('text_write.txt', \"Просто текст\")"
   ]
  },
  {
   "cell_type": "code",
   "execution_count": null,
   "metadata": {},
   "outputs": [],
   "source": [
    "read_all_file('text_write.txt')"
   ]
  },
  {
   "cell_type": "code",
   "execution_count": null,
   "metadata": {},
   "outputs": [],
   "source": [
    "write_in_file('text_write.txt', \"Другой текст\")\n",
    "read_all_file('text_write.txt')"
   ]
  },
  {
   "cell_type": "code",
   "execution_count": null,
   "metadata": {
    "collapsed": true
   },
   "outputs": [],
   "source": [
    "def write_in_end(path, text):\n",
    "    with open(path, 'a') as f:\n",
    "        f.write(text)"
   ]
  },
  {
   "cell_type": "code",
   "execution_count": null,
   "metadata": {},
   "outputs": [],
   "source": [
    "write_in_end('text_write.txt', \" + Другой текст\")\n",
    "read_all_file('text_write.txt')"
   ]
  },
  {
   "cell_type": "code",
   "execution_count": null,
   "metadata": {
    "collapsed": true
   },
   "outputs": [],
   "source": [
    "def rectangle_area_finder(a, b):\n",
    "    \"\"\"\n",
    "    (num, num) -> num\n",
    " \n",
    "    Returns an area of a rectangle with given sides a and b.    \n",
    " \n",
    "    >>> rectangle_area_finder(3, 5)\n",
    "    15\n",
    "    >>> rectangle_area_finder(17, 6)\n",
    "    102\n",
    "    \"\"\"\n",
    "    return a * b"
   ]
  },
  {
   "cell_type": "code",
   "execution_count": null,
   "metadata": {},
   "outputs": [],
   "source": [
    "import doctest\n",
    "doctest.testmod()"
   ]
  },
  {
   "cell_type": "code",
   "execution_count": null,
   "metadata": {},
   "outputs": [],
   "source": [
    "rectangle_area_finder(10,15)"
   ]
  },
  {
   "cell_type": "code",
   "execution_count": null,
   "metadata": {},
   "outputs": [],
   "source": [
    "help(rectangle_area_finder)"
   ]
  },
  {
   "cell_type": "code",
   "execution_count": null,
   "metadata": {},
   "outputs": [],
   "source": [
    "help(list)"
   ]
  },
  {
   "cell_type": "code",
   "execution_count": null,
   "metadata": {
    "collapsed": true
   },
   "outputs": [],
   "source": [
    "def add(a, b):\n",
    "    return int(a) + int(b)\n",
    "\n",
    "\n",
    "def subtract(x, y):\n",
    "   return int(x) - int(y)\n",
    "\n",
    "\n",
    "def multiply(x, y):\n",
    "   return int(x) * int(y)\n",
    "\n",
    "\n",
    "def divide(x, y):\n",
    "   return int(x) / int(y)\n",
    "\n",
    "\n",
    "values = {\n",
    "    '+': add,\n",
    "    '-': subtract,\n",
    "    '/': divide,\n",
    "    '*': multiply\n",
    "}\n",
    "\n",
    "\n",
    "def input_value():\n",
    "    input_data = input()\n",
    "    while input_data != \"exit\":\n",
    "        input_data = input_data.replace(' ', '')\n",
    "        for key in values.keys():\n",
    "            if key in input_data:\n",
    "                print(values[key](*input_data.split(key)))\n",
    "                break\n",
    "        input_data = input()\n",
    "        "
   ]
  },
  {
   "cell_type": "code",
   "execution_count": null,
   "metadata": {},
   "outputs": [],
   "source": [
    "input_value()"
   ]
  },
  {
   "cell_type": "code",
   "execution_count": null,
   "metadata": {
    "collapsed": true
   },
   "outputs": [],
   "source": [
    "def get_public(obj):\n",
    "    for it in dir(obj):\n",
    "        if not it.startswith('_'):\n",
    "            print(it)"
   ]
  },
  {
   "cell_type": "code",
   "execution_count": null,
   "metadata": {},
   "outputs": [],
   "source": [
    "get_public(list)"
   ]
  },
  {
   "cell_type": "code",
   "execution_count": null,
   "metadata": {
    "collapsed": true
   },
   "outputs": [],
   "source": [
    "def get_method(obj):\n",
    "    for it in dir(obj):\n",
    "        if callable(getattr(obj, it)):\n",
    "            print(it)"
   ]
  },
  {
   "cell_type": "code",
   "execution_count": null,
   "metadata": {},
   "outputs": [],
   "source": [
    "get_method(dict)"
   ]
  },
  {
   "cell_type": "code",
   "execution_count": null,
   "metadata": {
    "collapsed": true
   },
   "outputs": [],
   "source": [
    "def invert_dict(some_dict):\n",
    "    return dict((val, key) for (key, val) in some_dict.items())"
   ]
  },
  {
   "cell_type": "code",
   "execution_count": null,
   "metadata": {},
   "outputs": [],
   "source": [
    "invert_dict({'Piter':1, 'Anna': 2})"
   ]
  },
  {
   "cell_type": "code",
   "execution_count": null,
   "metadata": {
    "collapsed": true
   },
   "outputs": [],
   "source": [
    "def sum_args(*args):\n",
    "        \"\"\"\n",
    "        Returns sum of the args.\n",
    "\n",
    "        >>> sum(1)\n",
    "        1\n",
    "\n",
    "        >>> sum(2, 2)\n",
    "        4\n",
    "\n",
    "        >>> sum(1, 2, (3, 4))\n",
    "        10\n",
    "\n",
    "        >>> sum(1, ())\n",
    "        1\n",
    "\n",
    "        >>> sum(-1, 1.0)\n",
    "        0.0\n",
    "        \"\"\"\n",
    "        result = sum(args)\n",
    "\n",
    "        return result"
   ]
  },
  {
   "cell_type": "code",
   "execution_count": null,
   "metadata": {},
   "outputs": [],
   "source": []
  },
  {
   "cell_type": "code",
   "execution_count": null,
   "metadata": {},
   "outputs": [],
   "source": [
    "sum_args(1,2,3,5.6)"
   ]
  },
  {
   "cell_type": "code",
   "execution_count": null,
   "metadata": {
    "collapsed": true
   },
   "outputs": [],
   "source": [
    "def multiple_args(*args):\n",
    "    result = 1\n",
    "    for arg in args:\n",
    "        result *= arg\n",
    "\n",
    "    return result"
   ]
  },
  {
   "cell_type": "code",
   "execution_count": null,
   "metadata": {},
   "outputs": [],
   "source": [
    "multiple_args(1,2,3)"
   ]
  },
  {
   "cell_type": "code",
   "execution_count": null,
   "metadata": {
    "collapsed": true
   },
   "outputs": [],
   "source": [
    "def divide_args(*args):\n",
    "    result = None\n",
    "    for arg in args:\n",
    "        if not result:\n",
    "            result = arg\n",
    "            continue\n",
    "        result /= arg\n",
    "\n",
    "    return result"
   ]
  },
  {
   "cell_type": "code",
   "execution_count": null,
   "metadata": {},
   "outputs": [],
   "source": [
    "divide_args(9/3/3)"
   ]
  },
  {
   "cell_type": "code",
   "execution_count": null,
   "metadata": {
    "collapsed": true
   },
   "outputs": [],
   "source": []
  },
  {
   "cell_type": "code",
   "execution_count": null,
   "metadata": {},
   "outputs": [],
   "source": []
  },
  {
   "cell_type": "code",
   "execution_count": null,
   "metadata": {
    "collapsed": true
   },
   "outputs": [],
   "source": []
  }
 ],
 "metadata": {
  "kernelspec": {
   "display_name": "Python 3",
   "language": "python",
   "name": "python3"
  },
  "language_info": {
   "codemirror_mode": {
    "name": "ipython",
    "version": 3
   },
   "file_extension": ".py",
   "mimetype": "text/x-python",
   "name": "python",
   "nbconvert_exporter": "python",
   "pygments_lexer": "ipython3",
   "version": "3.6.2"
  }
 },
 "nbformat": 4,
 "nbformat_minor": 2
}
